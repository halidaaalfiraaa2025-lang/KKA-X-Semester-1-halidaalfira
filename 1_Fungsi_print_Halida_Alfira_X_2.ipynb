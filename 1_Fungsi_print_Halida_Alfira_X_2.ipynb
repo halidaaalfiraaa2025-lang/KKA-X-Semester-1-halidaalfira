{
  "nbformat": 4,
  "nbformat_minor": 0,
  "metadata": {
    "colab": {
      "provenance": [],
      "authorship_tag": "ABX9TyNOdC3bi8OTv5vHX4IefEfz",
      "include_colab_link": true
    },
    "kernelspec": {
      "name": "python3",
      "display_name": "Python 3"
    },
    "language_info": {
      "name": "python"
    }
  },
  "cells": [
    {
      "cell_type": "markdown",
      "metadata": {
        "id": "view-in-github",
        "colab_type": "text"
      },
      "source": [
        "<a href=\"https://colab.research.google.com/github/halidaaalfiraaa2025-lang/KKA-X-Semester-1-halidaalfira/blob/main/1_Fungsi_print_Halida_Alfira_X_2.ipynb\" target=\"_parent\"><img src=\"https://colab.research.google.com/assets/colab-badge.svg\" alt=\"Open In Colab\"/></a>"
      ]
    },
    {
      "cell_type": "code",
      "execution_count": null,
      "metadata": {
        "id": "R76HKLfitJqE"
      },
      "outputs": [],
      "source": []
    },
    {
      "cell_type": "markdown",
      "source": [],
      "metadata": {
        "id": "ul8kmUqk1IPr"
      }
    },
    {
      "cell_type": "markdown",
      "source": [
        "Nama:Halida Alfira K.N\n",
        "Kelas:X.2\n",
        "Nomor absen: 11"
      ],
      "metadata": {
        "id": "kqyLjCt0uD_I"
      }
    },
    {
      "cell_type": "markdown",
      "source": [
        "#Menampilkan Teks Bebas"
      ],
      "metadata": {
        "id": "AQG2sLC9wCLv"
      }
    },
    {
      "cell_type": "code",
      "source": [
        "print(\"Halo world!\")"
      ],
      "metadata": {
        "colab": {
          "base_uri": "https://localhost:8080/"
        },
        "id": "ziiXr3fjwFPn",
        "outputId": "c66f6b8c-c405-4307-a726-120c087e13f6"
      },
      "execution_count": null,
      "outputs": [
        {
          "output_type": "stream",
          "name": "stdout",
          "text": [
            "Halo world!\n"
          ]
        }
      ]
    },
    {
      "cell_type": "code",
      "source": [
        "print(\"Halida Alfira K.N\")"
      ],
      "metadata": {
        "colab": {
          "base_uri": "https://localhost:8080/"
        },
        "id": "Yyi5gBTFwlxF",
        "outputId": "3ef8892a-930a-493f-b1c8-838eba4990f8"
      },
      "execution_count": null,
      "outputs": [
        {
          "output_type": "stream",
          "name": "stdout",
          "text": [
            "Halida Alfira K.N\n"
          ]
        }
      ]
    },
    {
      "cell_type": "markdown",
      "source": [
        "#Menampilkan Nilai Variabel"
      ],
      "metadata": {
        "id": "CMfGo65SxKlT"
      }
    },
    {
      "cell_type": "code",
      "source": [
        "berat_badan = 44\n",
        "\n",
        "print(berat_badan)"
      ],
      "metadata": {
        "colab": {
          "base_uri": "https://localhost:8080/"
        },
        "id": "WaYkmskIxNvH",
        "outputId": "5ab7c64d-3ee2-47d9-8ab5-95c44bf45d0d"
      },
      "execution_count": null,
      "outputs": [
        {
          "output_type": "stream",
          "name": "stdout",
          "text": [
            "44\n"
          ]
        }
      ]
    },
    {
      "cell_type": "code",
      "source": [
        "Nama = \"Halida Alfira K.N\"\n",
        "\n",
        "print(Nama)"
      ],
      "metadata": {
        "colab": {
          "base_uri": "https://localhost:8080/"
        },
        "id": "SQTVnmcMxx2P",
        "outputId": "8c7dcd46-2c7f-4651-d39e-60f9db7d5087"
      },
      "execution_count": null,
      "outputs": [
        {
          "output_type": "stream",
          "name": "stdout",
          "text": [
            "Halida Alfira K.N\n"
          ]
        }
      ]
    },
    {
      "cell_type": "code",
      "source": [
        "Usia = \"16\"\n",
        "\n",
        "print(Usia)"
      ],
      "metadata": {
        "colab": {
          "base_uri": "https://localhost:8080/"
        },
        "id": "WiY0nusTyP9B",
        "outputId": "56f8a927-8f89-4263-9809-e80e162c6f13"
      },
      "execution_count": null,
      "outputs": [
        {
          "output_type": "stream",
          "name": "stdout",
          "text": [
            "16\n"
          ]
        }
      ]
    },
    {
      "cell_type": "code",
      "source": [],
      "metadata": {
        "id": "tcMYHMzG0JHe"
      },
      "execution_count": null,
      "outputs": []
    },
    {
      "cell_type": "markdown",
      "source": [
        "#Menampilkan Teks Bebas dari Nilai Variabel"
      ],
      "metadata": {
        "id": "yWNy1Xng0DmZ"
      }
    },
    {
      "cell_type": "code",
      "source": [
        "print(\"berat badan saya adalah\", berat_badan, \"kg\")print(\"berat badan saya adalah\", berat_badan, \"kg\")"
      ],
      "metadata": {
        "colab": {
          "base_uri": "https://localhost:8080/"
        },
        "id": "nG5wBead0N8T",
        "outputId": "bac76db2-a243-4642-9865-7a1580606264"
      },
      "execution_count": null,
      "outputs": [
        {
          "output_type": "stream",
          "name": "stdout",
          "text": [
            "berat badan saya adalah 44 kg\n"
          ]
        }
      ]
    },
    {
      "cell_type": "code",
      "source": [
        "print(\"perkenalkan nama saya,\",Nama ,\".\")"
      ],
      "metadata": {
        "colab": {
          "base_uri": "https://localhost:8080/"
        },
        "id": "yM4FGTq-0cmt",
        "outputId": "86ce9e15-8f72-4a3a-ffb4-6c1cee99449a"
      },
      "execution_count": null,
      "outputs": [
        {
          "output_type": "stream",
          "name": "stdout",
          "text": [
            "perkenalkan nama saya, Halida Alfira K.N .\n"
          ]
        }
      ]
    },
    {
      "cell_type": "code",
      "source": [
        "print(\"perkenalkan nama saya,\" + Nama + \".\")"
      ],
      "metadata": {
        "colab": {
          "base_uri": "https://localhost:8080/"
        },
        "id": "-lnmzA_11gD7",
        "outputId": "0d4809e8-bf70-4823-a54e-f5f444149af4"
      },
      "execution_count": null,
      "outputs": [
        {
          "output_type": "stream",
          "name": "stdout",
          "text": [
            "perkenalkan nama saya,Halida Alfira K.N.\n"
          ]
        }
      ]
    },
    {
      "cell_type": "code",
      "source": [
        "print(\"berat badan saya adalah\" + str(berat_badan) + \"kg.\")"
      ],
      "metadata": {
        "colab": {
          "base_uri": "https://localhost:8080/"
        },
        "id": "KdumosJe2FUa",
        "outputId": "4df18cc5-6f50-40fc-ea1b-a05ad3329cf3"
      },
      "execution_count": null,
      "outputs": [
        {
          "output_type": "stream",
          "name": "stdout",
          "text": [
            "berat badan saya adalah44kg.\n"
          ]
        }
      ]
    },
    {
      "cell_type": "code",
      "source": [
        "print(f\"perkenalkan nama saya {Nama} .\")"
      ],
      "metadata": {
        "colab": {
          "base_uri": "https://localhost:8080/"
        },
        "id": "mk5ZwnBs3J_U",
        "outputId": "b904991e-4527-4452-e141-b7e5b5e0e05e"
      },
      "execution_count": null,
      "outputs": [
        {
          "output_type": "stream",
          "name": "stdout",
          "text": [
            "perkenalkan nama saya Halida Alfira K.N .\n"
          ]
        }
      ]
    },
    {
      "cell_type": "markdown",
      "source": [
        "#Escape Character"
      ],
      "metadata": {
        "id": "0eCgKKVr2bFf"
      }
    },
    {
      "cell_type": "code",
      "source": [
        "print(\"Nama:Halida Alfira\\nKelas:X.2\\nNo.Absen:11\")"
      ],
      "metadata": {
        "colab": {
          "base_uri": "https://localhost:8080/"
        },
        "id": "CEHRkjGZ2mjt",
        "outputId": "8713a643-0937-4baa-b0e0-c630f0a965aa"
      },
      "execution_count": null,
      "outputs": [
        {
          "output_type": "stream",
          "name": "stdout",
          "text": [
            "Nama:Halida Alfira\n",
            "Kelas:X.2\n",
            "No.Absen:11\n"
          ]
        }
      ]
    },
    {
      "cell_type": "code",
      "source": [
        "print(\"Nama:Halida Alfira\")\n",
        "print(\"Kelas:X.2\")\n",
        "print(\"No.Absen:11\")"
      ],
      "metadata": {
        "colab": {
          "base_uri": "https://localhost:8080/"
        },
        "id": "paqXz9So3USB",
        "outputId": "7173e682-9065-4af2-ea77-a0ff4c3f3ac3"
      },
      "execution_count": null,
      "outputs": [
        {
          "output_type": "stream",
          "name": "stdout",
          "text": [
            "Nama:Halida Alfira\n",
            "Kelas:X.2\n",
            "No.Absen:11\n"
          ]
        }
      ]
    },
    {
      "cell_type": "code",
      "source": [
        "print(\"\"\"Nama:Halida Alfira\n",
        "Kelas:X.2\n",
        "No.Absen:11\"\"\")"
      ],
      "metadata": {
        "colab": {
          "base_uri": "https://localhost:8080/"
        },
        "id": "fJ3DqmmJ3jfY",
        "outputId": "7bc05fa6-7b2a-4c5f-b458-8b9d641639fb"
      },
      "execution_count": null,
      "outputs": [
        {
          "output_type": "stream",
          "name": "stdout",
          "text": [
            "Nama:Halida Alfira\n",
            "Kelas:X.2\n",
            "No.Absen:11\n"
          ]
        }
      ]
    },
    {
      "cell_type": "code",
      "source": [
        "print(\"Nama\\t\\t:Halida Alfira\\nKelas\\t\\t:X.2\\nNo.Absen\\t:11\")"
      ],
      "metadata": {
        "colab": {
          "base_uri": "https://localhost:8080/"
        },
        "id": "m46h-t8p6TEH",
        "outputId": "d53fc740-cb03-4c57-861a-a5365e46d920"
      },
      "execution_count": null,
      "outputs": [
        {
          "output_type": "stream",
          "name": "stdout",
          "text": [
            "Nama\t\t:Halida Alfira\n",
            "Kelas\t\t:X.2\n",
            "No.Absen\t:11\n"
          ]
        }
      ]
    },
    {
      "cell_type": "code",
      "source": [
        "print(\"Jadwal Pelajaran  Mingguan \")"
      ],
      "metadata": {
        "id": "E3Nj5ELxnKjS",
        "colab": {
          "base_uri": "https://localhost:8080/"
        },
        "outputId": "020c4583-0297-48cc-fad6-0a7b680c97b6"
      },
      "execution_count": null,
      "outputs": [
        {
          "output_type": "stream",
          "name": "stdout",
          "text": [
            "Jadwal Pelajaran  Mingguan \n"
          ]
        }
      ]
    },
    {
      "cell_type": "code",
      "source": [
        "print(\"==================================\")"
      ],
      "metadata": {
        "colab": {
          "base_uri": "https://localhost:8080/"
        },
        "id": "7D0uGDX1oilU",
        "outputId": "49e14e5f-4c61-48dd-a0ab-2944ebbe28ec"
      },
      "execution_count": null,
      "outputs": [
        {
          "output_type": "stream",
          "name": "stdout",
          "text": [
            "==================================\n"
          ]
        }
      ]
    },
    {
      "cell_type": "code",
      "source": [
        "print(\"Jam\\tSenin\\t\\tSelasa\\t\\tRabu\")"
      ],
      "metadata": {
        "colab": {
          "base_uri": "https://localhost:8080/"
        },
        "id": "1GHC3l-eoyBH",
        "outputId": "d23f6dca-d07e-4d92-9acb-148ad0d919c9"
      },
      "execution_count": null,
      "outputs": [
        {
          "output_type": "stream",
          "name": "stdout",
          "text": [
            "Jam\tSenin\t\tSelasa\t\tRabu\n"
          ]
        }
      ]
    },
    {
      "cell_type": "code",
      "source": [
        "print(\"Jam 1\\tMatematika\\tBahasa\\t\\tInformatika\")"
      ],
      "metadata": {
        "colab": {
          "base_uri": "https://localhost:8080/"
        },
        "id": "MIvb6oUUpENh",
        "outputId": "b1139fe9-3105-48ca-b530-ad090fb4f34e"
      },
      "execution_count": null,
      "outputs": [
        {
          "output_type": "stream",
          "name": "stdout",
          "text": [
            "Jam 1\tMatematika\tBahasa\t\tInformatika\n"
          ]
        }
      ]
    },
    {
      "cell_type": "code",
      "source": [
        "print(\"Jam 2\\tBahasa Ingg.\\tSejarah\\t\\tMa\\'rifatullah\")"
      ],
      "metadata": {
        "colab": {
          "base_uri": "https://localhost:8080/"
        },
        "id": "nMY6FkcPpUqS",
        "outputId": "76a45cc9-fd72-47e5-d201-d680ffa313cd"
      },
      "execution_count": null,
      "outputs": [
        {
          "output_type": "stream",
          "name": "stdout",
          "text": [
            "Jam 2\tBahasa Ingg.\tSejarah\t\tMa'rifatullah\n"
          ]
        }
      ]
    },
    {
      "cell_type": "code",
      "source": [
        "print(\"Jam 3\\tInformatika\\tOlahraga\\tBiologi\")"
      ],
      "metadata": {
        "colab": {
          "base_uri": "https://localhost:8080/"
        },
        "id": "ke6zac_dpmcj",
        "outputId": "da99f870-c28f-4663-c164-d3974f7acb78"
      },
      "execution_count": null,
      "outputs": [
        {
          "output_type": "stream",
          "name": "stdout",
          "text": [
            "Jam 3\tInformatika\tOlahraga\tBiologi\n"
          ]
        }
      ]
    },
    {
      "cell_type": "code",
      "source": [
        "print(\"Jadwal Pelajaran Mingguan\")\n",
        "print(\"=================================\")\n",
        "print(\"Jam\\tSenin\\tSelasa\\t\\tRabu\")\n",
        "print(\"Jam 1\\tMatematika \\tBahasa \\t\\tInformatika\")\n",
        "print(\"Jam 2\\tBahasa Ingg.\\tSejarah\\t\\tMa\\'rifatullah\")\n",
        "print(\"Jam 3\\tInformatika\\tOlahraga\\tBiologi\")"
      ],
      "metadata": {
        "colab": {
          "base_uri": "https://localhost:8080/"
        },
        "id": "CU_ltl-UpwS4",
        "outputId": "9d3da97e-3831-41da-f492-ae7100b201ca"
      },
      "execution_count": null,
      "outputs": [
        {
          "output_type": "stream",
          "name": "stdout",
          "text": [
            "Jadwal Pelajaran Mingguan\n",
            "=================================\n",
            "Jam\tSenin\tSelasa\t\tRabu\n",
            "Jam 1\tMatematika \tBahasa \t\tInformatika\n",
            "Jam 2\tBahasa Ingg.\tSejarah\t\tMa'rifatullah\n",
            "Jam 3\tInformatika\tOlahraga\tBiologi\n"
          ]
        }
      ]
    },
    {
      "cell_type": "code",
      "source": [
        "print('Bu Shinta Berkata, \"Berikut adalah daftar paket harian kelas X.2 yang disimpan di film D:\\\\Man Demak\\\\Jadwal Piket\"\\n\\nSenin\\tSelasa\\tRabu\\nJielo\\tHasbi\\tNaufal\\nAzam\\tAida\\tNurul')"
      ],
      "metadata": {
        "colab": {
          "base_uri": "https://localhost:8080/"
        },
        "id": "MWIjavHF7wEY",
        "outputId": "f2b35253-cd39-450a-8422-4764ead2c6d9"
      },
      "execution_count": null,
      "outputs": [
        {
          "output_type": "stream",
          "name": "stdout",
          "text": [
            "Bu Shinta Berkata, \"Berikut adalah daftar paket harian kelas X.2 yang disimpan di film D:\\Man Demak\\Jadwal Piket\"\n",
            "\n",
            "Senin\tSelasa\tRabu\n",
            "Jielo\tHasbi\tNaufal\n",
            "Azam\tAida\tNurul\n"
          ]
        }
      ]
    },
    {
      "cell_type": "markdown",
      "source": [
        "Parameter Fungsi Print"
      ],
      "metadata": {
        "id": "NisB4c8w1J7I"
      }
    },
    {
      "cell_type": "code",
      "source": [
        "nama_siswa_1=\"Nurul\"\n",
        "nama_siswa_2=\"Aida\"\n",
        "nama_siswa_3=\"Jielo\"\n",
        "nama_siswa_4=\"Dani\"\n",
        "\n",
        "print(nama_siswa_1, end=\"/\")\n",
        "print(nama_siswa_2, end=\"/\")\n",
        "print(nama_siswa_3, end=\"/\")\n",
        "print(nama_siswa_4)"
      ],
      "metadata": {
        "colab": {
          "base_uri": "https://localhost:8080/"
        },
        "id": "lVO7n2sd1Npb",
        "outputId": "94b9a82b-18ad-4ffb-ccf8-4a2fe469c357"
      },
      "execution_count": null,
      "outputs": [
        {
          "output_type": "stream",
          "name": "stdout",
          "text": [
            "Nurul/Aida/Jielo/Dani\n"
          ]
        }
      ]
    },
    {
      "cell_type": "code",
      "source": [
        "nama_siswa_5= \"Hasbi\"\n",
        "nama_siswa_6= \"Naufal\"\n",
        "nama_siswa_7= \"Rendra\"\n",
        "nama_siswa_8= \"Habibi\"\n",
        "nama_siswa_9= \"Naufal\"\n",
        "\n",
        "print(nama_siswa_5,nama_siswa_6,nama_siswa_7,nama_siswa_8,nama_siswa_9, sep=\"*\")"
      ],
      "metadata": {
        "colab": {
          "base_uri": "https://localhost:8080/"
        },
        "id": "F0DyY9o04Q0a",
        "outputId": "d966c0c9-8e87-47ef-9101-9bce1b2c60b4"
      },
      "execution_count": null,
      "outputs": [
        {
          "output_type": "stream",
          "name": "stdout",
          "text": [
            "Hasbi*Naufal*Rendra*Habibi*Naufal\n"
          ]
        }
      ]
    }
  ]
}